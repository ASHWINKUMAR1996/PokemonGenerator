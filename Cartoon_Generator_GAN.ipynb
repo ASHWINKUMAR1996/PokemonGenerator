{
  "nbformat": 4,
  "nbformat_minor": 0,
  "metadata": {
    "colab": {
      "name": "Cartoon_Generator_GAN.ipynb",
      "provenance": [],
      "collapsed_sections": [],
      "authorship_tag": "ABX9TyNS179mXlJ69AgDeSu5pEwB",
      "include_colab_link": true
    },
    "kernelspec": {
      "name": "python3",
      "display_name": "Python 3"
    },
    "accelerator": "GPU"
  },
  "cells": [
    {
      "cell_type": "markdown",
      "metadata": {
        "id": "view-in-github",
        "colab_type": "text"
      },
      "source": [
        "<a href=\"https://colab.research.google.com/github/ASHWINKUMAR1996/PokemonGenerator/blob/master/Cartoon_Generator_GAN.ipynb\" target=\"_parent\"><img src=\"https://colab.research.google.com/assets/colab-badge.svg\" alt=\"Open In Colab\"/></a>"
      ]
    },
    {
      "cell_type": "code",
      "metadata": {
        "id": "9g0b270IHi1U"
      },
      "source": [
        "import os\n",
        "import imutils\n",
        "import cv2\n",
        "import numpy as np\n",
        "from sklearn.utils import shuffle\n",
        "import tensorflow as tf\n",
        "from tensorflow.keras.layers import Dense, Conv2DTranspose, Conv2D, BatchNormalization, Input, Reshape, LeakyReLU, Flatten\n",
        "from tensorflow.keras.optimizers import Adam\n",
        "from tensorflow.keras.datasets import fashion_mnist\n",
        "from tensorflow.keras.models import Model, Sequential\n",
        "import matplotlib.pyplot as plt\n",
        "from google.colab.patches import cv2_imshow\n",
        "from zipfile import ZipFile\n",
        "from PIL import Image\n",
        "from tensorflow.keras.preprocessing.image import img_to_array"
      ],
      "execution_count": null,
      "outputs": []
    },
    {
      "cell_type": "code",
      "metadata": {
        "colab": {
          "base_uri": "https://localhost:8080/"
        },
        "id": "5gxTkv-OCB5S",
        "outputId": "b32e406c-54cc-4dd5-8d9f-c4a982505e71"
      },
      "source": [
        "from google.colab import drive\n",
        "drive.mount('/content/drive', force_remount=False)"
      ],
      "execution_count": null,
      "outputs": [
        {
          "output_type": "stream",
          "text": [
            "Mounted at /content/drive\n"
          ],
          "name": "stdout"
        }
      ]
    },
    {
      "cell_type": "code",
      "metadata": {
        "id": "hIZrv_gHXRoh"
      },
      "source": [
        "# upzip the folder\n",
        "with ZipFile(\"drive/MyDrive/Cartoon_Generator.zip\", \"r\") as zip:\n",
        "  zip.extractall()"
      ],
      "execution_count": null,
      "outputs": []
    },
    {
      "cell_type": "code",
      "metadata": {
        "id": "M6ViBfs-iDY0"
      },
      "source": [
        "# upzip the folder\n",
        "with ZipFile(\"drive/MyDrive/archive.zip\", \"r\") as zip:\n",
        "  zip.extractall()"
      ],
      "execution_count": null,
      "outputs": []
    },
    {
      "cell_type": "code",
      "metadata": {
        "id": "VITObnUIIyjq"
      },
      "source": [
        "def convert_image_thumbnail(image, thumbnail_size=(200, 200)):\n",
        "  background = Image.new('RGB', thumbnail_size, \"black\") \n",
        "  # print(background.size)   \n",
        "  source_image = Image.open(f).convert(\"RGB\")\n",
        "  # print(source_image.size)   \n",
        "  source_image.thumbnail(thumbnail_size)\n",
        "  # print(source_image.size)   \n",
        "  (w, h) = source_image.size\n",
        "  background.paste(source_image, ((thumbnail_size[0] - w) // 2, (thumbnail_size[1] - h) // 2 ))\n",
        "\n",
        "  background = img_to_array(background)\n",
        "\n",
        "  return background"
      ],
      "execution_count": null,
      "outputs": []
    },
    {
      "cell_type": "code",
      "metadata": {
        "id": "0xKeAJd3jLyt",
        "colab": {
          "base_uri": "https://localhost:8080/"
        },
        "outputId": "091b96fa-c5e9-4f29-8857-292fc4f42194"
      },
      "source": [
        "# create a dataset from the images\n",
        "\n",
        "images_folder = \"cropped\"\n",
        "train_data = []\n",
        "\n",
        "for file in os.listdir(images_folder):\n",
        "\n",
        "    f = os.path.join(images_folder, file)\n",
        "    # image = convert_image_thumbnail(f, (200, 200))\n",
        "    image = cv2.imread(f)\n",
        "    train_data.append(image)\n",
        "\n",
        "train_data = np.array(train_data).astype(\"float32\")\n",
        "train_data = (train_data - 127.5) / 127.5\n",
        "print(train_data.shape)"
      ],
      "execution_count": null,
      "outputs": [
        {
          "output_type": "stream",
          "text": [
            "(9877, 200, 200, 3)\n"
          ],
          "name": "stdout"
        }
      ]
    },
    {
      "cell_type": "code",
      "metadata": {
        "id": "iQL9MhLiJzzr"
      },
      "source": [
        "# create a dataset from the images\n",
        "\n",
        "images_folder = \"Cartoon_Generator/images\"\n",
        "train_data = []\n",
        "file_count = 500\n",
        "\n",
        "for folder in os.listdir(images_folder):\n",
        "\n",
        "  roi_folder = os.path.join(images_folder, folder, \"roi\")\n",
        "  for file in os.listdir(roi_folder)[:file_count]:\n",
        "\n",
        "    try:\n",
        "      f = os.path.join(roi_folder, file)\n",
        "      image = convert_image_thumbnail(f, (200, 200))\n",
        "      train_data.append(image)\n",
        "    \n",
        "    except Exception as e:\n",
        "      continue\n",
        "\n",
        "train_data = np.array(train_data).astype(\"float32\")\n",
        "train_data = (train_data - 127.5) / 127.5\n",
        "print(train_data.shape)"
      ],
      "execution_count": null,
      "outputs": []
    },
    {
      "cell_type": "code",
      "metadata": {
        "colab": {
          "base_uri": "https://localhost:8080/",
          "height": 217
        },
        "id": "g60Vz4nXJnLG",
        "outputId": "8546f9e6-4791-4c8e-d807-a2175a52355a"
      },
      "source": [
        "cv2_imshow(train_data[2000] * 127.5 + 127.5)"
      ],
      "execution_count": null,
      "outputs": [
        {
          "output_type": "display_data",
          "data": {
            "image/png": "[encoded data removed]",
            "text/plain": [
              "<PIL.Image.Image image mode=RGB size=200x200 at 0x7F8A5A30C8D0>"
            ]
          },
          "metadata": {
            "tags": []
          }
        }
      ]
    },
    {
      "cell_type": "code",
      "metadata": {
        "id": "7nOx98P5VENt"
      },
      "source": [
        "benchmark = np.random.uniform(-1, 1, (256, 100))\n",
        "epochs = 200\n",
        "batch_size = 64\n",
        "INIT_LR = 1e-4\n",
        "beta = 0.5"
      ],
      "execution_count": null,
      "outputs": []
    },
    {
      "cell_type": "code",
      "metadata": {
        "id": "QR_X5ZxFLM2W"
      },
      "source": [
        "class GAN:\n",
        "\n",
        "  def __init__(self, height, width, dim=7, depth=64, channel=1, input=100, fc=512):\n",
        "\n",
        "    self.dim = dim\n",
        "    self.depth = depth\n",
        "    self.channel = channel\n",
        "    self.input = input\n",
        "    self.fc = fc\n",
        "    self.height = height\n",
        "    self.width = width\n",
        "\n",
        "  def build_generator(self):\n",
        "\n",
        "    model = Sequential()\n",
        "\n",
        "    # first set of layers\n",
        "    model.add(Dense(self.fc, activation=\"relu\", input_shape=(self.input, )))\n",
        "    model.add(BatchNormalization())\n",
        "    \n",
        "    # second set of layers\n",
        "    model.add(Dense(self.dim*self.dim*self.depth, activation=\"relu\"))\n",
        "    model.add(BatchNormalization())\n",
        "\n",
        "    model.add(Reshape((self.dim, self.dim, self.depth)))\n",
        "\n",
        "    # third set - convtranspose\n",
        "    model.add(Conv2DTranspose(filters=256, kernel_size=(5, 5), strides=(2, 2), padding=\"same\", activation=\"relu\"))\n",
        "    model.add(BatchNormalization())\n",
        "\n",
        "    # fourth set - convtranspose\n",
        "    model.add(Conv2DTranspose(filters=128, kernel_size=(5, 5), strides=(2, 2), padding=\"same\", activation=\"relu\"))\n",
        "    model.add(BatchNormalization())\n",
        "\n",
        "    # # fifth set - convtranspose\n",
        "    model.add(Conv2DTranspose(filters=64, kernel_size=(5, 5), strides=(2, 2), padding=\"same\", activation=\"relu\"))\n",
        "    model.add(BatchNormalization())\n",
        "\n",
        "    # sixth set - convtranspose\n",
        "    model.add(Conv2DTranspose(filters=self.channel, kernel_size=(5, 5), strides=(1, 1), padding=\"same\", activation=\"tanh\"))\n",
        "    model.add(BatchNormalization())\n",
        "\n",
        "    print(model.summary())\n",
        "    return model\n",
        "\n",
        "  def build_discriminator(self):\n",
        "\n",
        "    model = Sequential()\n",
        "\n",
        "    # first conv2d\n",
        "    model.add(Conv2D(filters=32, kernel_size=(5, 5), strides=(2, 2), padding=\"same\", input_shape=(self.height, self.width, self.channel)))\n",
        "    model.add(LeakyReLU(alpha=0.2))\n",
        "\n",
        "    # second conv2d\n",
        "    model.add(Conv2D(filters=64, kernel_size=(5, 5), strides=(2, 2), padding=\"same\"))\n",
        "    model.add(LeakyReLU(alpha=0.2))\n",
        "\n",
        "    # third conv2d\n",
        "    # model.add(Conv2D(filters=256, kernel_size=(5, 5), strides=(2, 2), padding=\"same\"))\n",
        "    # model.add(LeakyReLU(alpha=0.2))\n",
        "\n",
        "    # fourth conv2d\n",
        "    # model.add(Conv2D(filters=512, kernel_size=(5, 5), strides=(2, 2), padding=\"same\"))\n",
        "    # model.add(LeakyReLU(alpha=0.2))\n",
        "\n",
        "    # Flatten\n",
        "    model.add(Flatten())\n",
        "    model.add(Dense(units=self.fc))\n",
        "    model.add(LeakyReLU(alpha=0.2))\n",
        "    \n",
        "    #sigmoid layer\n",
        "    model.add(Dense(units=1, activation=\"sigmoid\"))\n",
        "\n",
        "    print(model.summary())\n",
        "    return model"
      ],
      "execution_count": null,
      "outputs": []
    },
    {
      "cell_type": "code",
      "metadata": {
        "id": "Uhn3ptwKLNEj",
        "colab": {
          "base_uri": "https://localhost:8080/"
        },
        "outputId": "afa42039-f641-4655-bf04-a7121af4c03a"
      },
      "source": [
        "# build discriminator model\n",
        "disc = GAN(height=200, width=200, dim=25, depth=512, channel=3, input=100, fc=512).build_discriminator()\n",
        "discOpt = Adam(lr=INIT_LR, beta_1=beta, decay=INIT_LR / epochs)\n",
        "disc.compile(loss=\"binary_crossentropy\", optimizer=discOpt)\n",
        "\n",
        "# freeze trainable weights in discriminator\n",
        "disc.trainable = False"
      ],
      "execution_count": null,
      "outputs": [
        {
          "output_type": "stream",
          "text": [
            "Model: \"sequential\"\n",
            "_________________________________________________________________\n",
            "Layer (type)                 Output Shape              Param #   \n",
            "=================================================================\n",
            "conv2d (Conv2D)              (None, 100, 100, 32)      2432      \n",
            "_________________________________________________________________\n",
            "leaky_re_lu (LeakyReLU)      (None, 100, 100, 32)      0         \n",
            "_________________________________________________________________\n",
            "conv2d_1 (Conv2D)            (None, 50, 50, 64)        51264     \n",
            "_________________________________________________________________\n",
            "leaky_re_lu_1 (LeakyReLU)    (None, 50, 50, 64)        0         \n",
            "_________________________________________________________________\n",
            "flatten (Flatten)            (None, 160000)            0         \n",
            "_________________________________________________________________\n",
            "dense (Dense)                (None, 512)               81920512  \n",
            "_________________________________________________________________\n",
            "leaky_re_lu_2 (LeakyReLU)    (None, 512)               0         \n",
            "_________________________________________________________________\n",
            "dense_1 (Dense)              (None, 1)                 513       \n",
            "=================================================================\n",
            "Total params: 81,974,721\n",
            "Trainable params: 81,974,721\n",
            "Non-trainable params: 0\n",
            "_________________________________________________________________\n",
            "None\n"
          ],
          "name": "stdout"
        }
      ]
    },
    {
      "cell_type": "code",
      "metadata": {
        "colab": {
          "base_uri": "https://localhost:8080/"
        },
        "id": "M0Br4k9cu17w",
        "outputId": "52aed7cf-8d83-429b-fa20-f9e64347c0be"
      },
      "source": [
        "# build generator model and the complete gan model\n",
        "# generator = GAN(28, 28, 7, 64, 1, 100, 512).build_generator()\n",
        "generator = GAN(height=200, width=200, dim=25, depth=512, channel=3, input=100, fc=512).build_generator()\n",
        "input = Input(shape=(100, ))\n",
        "gan_model = Model(inputs=input, outputs=disc(generator(input)))\n",
        "ganOpt = Adam(lr=INIT_LR, beta_1=beta, decay=INIT_LR / epochs)\n",
        "gan_model.compile(loss=\"binary_crossentropy\", optimizer=ganOpt)"
      ],
      "execution_count": null,
      "outputs": [
        {
          "output_type": "stream",
          "text": [
            "Model: \"sequential_1\"\n",
            "_________________________________________________________________\n",
            "Layer (type)                 Output Shape              Param #   \n",
            "=================================================================\n",
            "dense_2 (Dense)              (None, 512)               51712     \n",
            "_________________________________________________________________\n",
            "batch_normalization (BatchNo (None, 512)               2048      \n",
            "_________________________________________________________________\n",
            "dense_3 (Dense)              (None, 320000)            164160000 \n",
            "_________________________________________________________________\n",
            "batch_normalization_1 (Batch (None, 320000)            1280000   \n",
            "_________________________________________________________________\n",
            "reshape (Reshape)            (None, 25, 25, 512)       0         \n",
            "_________________________________________________________________\n",
            "conv2d_transpose (Conv2DTran (None, 50, 50, 256)       3277056   \n",
            "_________________________________________________________________\n",
            "batch_normalization_2 (Batch (None, 50, 50, 256)       1024      \n",
            "_________________________________________________________________\n",
            "conv2d_transpose_1 (Conv2DTr (None, 100, 100, 128)     819328    \n",
            "_________________________________________________________________\n",
            "batch_normalization_3 (Batch (None, 100, 100, 128)     512       \n",
            "_________________________________________________________________\n",
            "conv2d_transpose_2 (Conv2DTr (None, 200, 200, 64)      204864    \n",
            "_________________________________________________________________\n",
            "batch_normalization_4 (Batch (None, 200, 200, 64)      256       \n",
            "_________________________________________________________________\n",
            "conv2d_transpose_3 (Conv2DTr (None, 200, 200, 3)       4803      \n",
            "_________________________________________________________________\n",
            "batch_normalization_5 (Batch (None, 200, 200, 3)       12        \n",
            "=================================================================\n",
            "Total params: 169,801,615\n",
            "Trainable params: 169,159,689\n",
            "Non-trainable params: 641,926\n",
            "_________________________________________________________________\n",
            "None\n"
          ],
          "name": "stdout"
        }
      ]
    },
    {
      "cell_type": "code",
      "metadata": {
        "colab": {
          "base_uri": "https://localhost:8080/"
        },
        "id": "rGMdFgm5S7xj",
        "outputId": "a300ffd4-e1d4-4215-c040-38e97339fe57"
      },
      "source": [
        "gan_model.predict(benchmark[0:3])"
      ],
      "execution_count": null,
      "outputs": [
        {
          "output_type": "execute_result",
          "data": {
            "text/plain": [
              "array([[0.4999572 ],\n",
              "       [0.49997652],\n",
              "       [0.49995458]], dtype=float32)"
            ]
          },
          "metadata": {
            "tags": []
          },
          "execution_count": 10
        }
      ]
    },
    {
      "cell_type": "code",
      "metadata": {
        "colab": {
          "base_uri": "https://localhost:8080/"
        },
        "id": "_TgDdeYdY207",
        "outputId": "d54f4971-22f0-4167-f4f0-dc5667626827"
      },
      "source": [
        "generator.predict(benchmark[0:2]).shape"
      ],
      "execution_count": null,
      "outputs": [
        {
          "output_type": "execute_result",
          "data": {
            "text/plain": [
              "(2, 200, 200, 3)"
            ]
          },
          "metadata": {
            "tags": []
          },
          "execution_count": 11
        }
      ]
    },
    {
      "cell_type": "code",
      "metadata": {
        "colab": {
          "base_uri": "https://localhost:8080/"
        },
        "id": "ckO1WRzjyZDR",
        "outputId": "e444d6a5-a994-497e-8f72-519bdf254778"
      },
      "source": [
        "batches = train_data.shape[0] // batch_size\n",
        "\n",
        "for epoch in range(epochs):\n",
        "\n",
        "  print(\"Epoch: {}/{}\".format(epoch + 1, epochs))\n",
        "  for i in range(batches):\n",
        "    batch = train_data[i * batch_size : (i+1) * batch_size]\n",
        "\n",
        "    # generate random noise images\n",
        "    noise = np.random.uniform(-1, 1, (batch_size, 100))\n",
        "    noise_image = generator.predict(noise, verbose=0)\n",
        "\n",
        "    # print(batch.shape, noise_image.shape)\n",
        "    temp_data = np.concatenate([batch, noise_image], axis=0)\n",
        "    labels = np.array([1] * batch_size + [0] * batch_size)\n",
        "    # print(temp_data.shape, labels.shape)\n",
        "    temp_data, labels = shuffle(temp_data, labels)\n",
        "\n",
        "    disc.train_on_batch(temp_data, labels)\n",
        "\n",
        "    noise = np.random.uniform(-1, 1, (batch_size, 100))\n",
        "    false_labels = np.array([1] * batch_size)\n",
        "    gan_model.train_on_batch(noise, false_labels)\n",
        "\n",
        "  if epoch % 5 == 0 and epoch != 0:\n",
        "    output = generator.predict(benchmark)\n",
        "    output = (output * 127.5 + 127.5).astype(\"uint8\")\n",
        "\n",
        "    output_slice = output[[20, 40, 60], :]\n",
        "\n",
        "    for i in [20, 40, 60]:\n",
        "      path = \"/content/drive/MyDrive/{}_{}.jpg\".format(epoch, str(i))\n",
        "      cv2.imwrite(path, output[i])"
      ],
      "execution_count": null,
      "outputs": [
        {
          "output_type": "stream",
          "text": [
            "Epoch: 1/200\n",
            "Epoch: 2/200\n",
            "Epoch: 3/200\n",
            "Epoch: 4/200\n",
            "Epoch: 5/200\n",
            "Epoch: 6/200\n",
            "Epoch: 7/200\n",
            "Epoch: 8/200\n",
            "Epoch: 9/200\n",
            "Epoch: 10/200\n",
            "Epoch: 11/200\n",
            "Epoch: 12/200\n",
            "Epoch: 13/200\n",
            "Epoch: 14/200\n",
            "Epoch: 15/200\n",
            "Epoch: 16/200\n",
            "Epoch: 17/200\n",
            "Epoch: 18/200\n",
            "Epoch: 19/200\n",
            "Epoch: 20/200\n",
            "Epoch: 21/200\n",
            "Epoch: 22/200\n",
            "Epoch: 23/200\n",
            "Epoch: 24/200\n",
            "Epoch: 25/200\n",
            "Epoch: 26/200\n",
            "Epoch: 27/200\n",
            "Epoch: 28/200\n",
            "Epoch: 29/200\n",
            "Epoch: 30/200\n",
            "Epoch: 31/200\n",
            "Epoch: 32/200\n",
            "Epoch: 33/200\n",
            "Epoch: 34/200\n",
            "Epoch: 35/200\n",
            "Epoch: 36/200\n",
            "Epoch: 37/200\n",
            "Epoch: 38/200\n",
            "Epoch: 39/200\n",
            "Epoch: 40/200\n",
            "Epoch: 41/200\n",
            "Epoch: 42/200\n",
            "Epoch: 43/200\n",
            "Epoch: 44/200\n",
            "Epoch: 45/200\n",
            "Epoch: 46/200\n",
            "Epoch: 47/200\n",
            "Epoch: 48/200\n",
            "Epoch: 49/200\n",
            "Epoch: 50/200\n",
            "Epoch: 51/200\n",
            "Epoch: 52/200\n",
            "Epoch: 53/200\n",
            "Epoch: 54/200\n",
            "Epoch: 55/200\n",
            "Epoch: 56/200\n",
            "Epoch: 57/200\n",
            "Epoch: 58/200\n",
            "Epoch: 59/200\n",
            "Epoch: 60/200\n",
            "Epoch: 61/200\n",
            "Epoch: 62/200\n",
            "Epoch: 63/200\n",
            "Epoch: 64/200\n",
            "Epoch: 65/200\n",
            "Epoch: 66/200\n",
            "Epoch: 67/200\n",
            "Epoch: 68/200\n",
            "Epoch: 69/200\n",
            "Epoch: 70/200\n",
            "Epoch: 71/200\n",
            "Epoch: 72/200\n"
          ],
          "name": "stdout"
        }
      ]
    },
    {
      "cell_type": "code",
      "metadata": {
        "id": "5nOK1xV2yhuS"
      },
      "source": [
        "output = generator.predict(benchmark)\n",
        "output = (output * 127.5 + 127.5).astype(\"uint8\")"
      ],
      "execution_count": null,
      "outputs": []
    },
    {
      "cell_type": "code",
      "metadata": {
        "id": "93H6v2O-jAo6"
      },
      "source": [
        "output.shape"
      ],
      "execution_count": null,
      "outputs": []
    },
    {
      "cell_type": "code",
      "metadata": {
        "id": "KUjTZfSf0Em2"
      },
      "source": [
        "cv2_imshow(output[255])"
      ],
      "execution_count": null,
      "outputs": []
    },
    {
      "cell_type": "code",
      "metadata": {
        "id": "JdUcL4BEg1xB"
      },
      "source": [
        "output[70].shape"
      ],
      "execution_count": null,
      "outputs": []
    },
    {
      "cell_type": "code",
      "metadata": {
        "id": "T9AwF0amymP4"
      },
      "source": [
        "i = np.squeeze(output[150], axis=2)\n",
        "i = Image.fromarray(i)\n",
        "plt.imshow(i, cmap=\"gray\")"
      ],
      "execution_count": null,
      "outputs": []
    },
    {
      "cell_type": "code",
      "metadata": {
        "id": "oCJRjReiUsEq"
      },
      "source": [
        "path = \"/content/drive/MyDrive/new.jpg\"\n",
        "cv2.imwrite(path, output[255])"
      ],
      "execution_count": null,
      "outputs": []
    }
  ]
}